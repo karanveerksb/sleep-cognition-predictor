{
  "nbformat": 4,
  "nbformat_minor": 0,
  "metadata": {
    "colab": {
      "provenance": []
    },
    "kernelspec": {
      "name": "python3",
      "display_name": "Python 3"
    },
    "language_info": {
      "name": "python"
    }
  },
  "cells": [
    {
      "cell_type": "markdown",
      "source": [
        "Install Dependencies"
      ],
      "metadata": {
        "id": "QhoGLxB7BhnE"
      }
    },
    {
      "cell_type": "code",
      "source": [
        "!conda install -c conda-forge scikit-learn=1.5.0 shap xgboost pandas numpy -y\n",
        "!pip install streamlit joblib"
      ],
      "metadata": {
        "colab": {
          "base_uri": "https://localhost:8080/"
        },
        "id": "P3Y71ijRBW6y",
        "outputId": "2e948f6e-0743-4610-9a3e-619527cbeaff"
      },
      "execution_count": 25,
      "outputs": [
        {
          "output_type": "stream",
          "name": "stdout",
          "text": [
            "/bin/bash: line 1: conda: command not found\n",
            "Requirement already satisfied: streamlit in /usr/local/lib/python3.11/dist-packages (1.42.2)\n",
            "Requirement already satisfied: joblib in /usr/local/lib/python3.11/dist-packages (1.4.2)\n",
            "Requirement already satisfied: altair<6,>=4.0 in /usr/local/lib/python3.11/dist-packages (from streamlit) (5.5.0)\n",
            "Requirement already satisfied: blinker<2,>=1.0.0 in /usr/local/lib/python3.11/dist-packages (from streamlit) (1.9.0)\n",
            "Requirement already satisfied: cachetools<6,>=4.0 in /usr/local/lib/python3.11/dist-packages (from streamlit) (5.5.1)\n",
            "Requirement already satisfied: click<9,>=7.0 in /usr/local/lib/python3.11/dist-packages (from streamlit) (8.1.8)\n",
            "Requirement already satisfied: numpy<3,>=1.23 in /usr/local/lib/python3.11/dist-packages (from streamlit) (1.26.4)\n",
            "Requirement already satisfied: packaging<25,>=20 in /usr/local/lib/python3.11/dist-packages (from streamlit) (24.2)\n",
            "Requirement already satisfied: pandas<3,>=1.4.0 in /usr/local/lib/python3.11/dist-packages (from streamlit) (2.2.2)\n",
            "Requirement already satisfied: pillow<12,>=7.1.0 in /usr/local/lib/python3.11/dist-packages (from streamlit) (11.1.0)\n",
            "Requirement already satisfied: protobuf<6,>=3.20 in /usr/local/lib/python3.11/dist-packages (from streamlit) (4.25.6)\n",
            "Requirement already satisfied: pyarrow>=7.0 in /usr/local/lib/python3.11/dist-packages (from streamlit) (17.0.0)\n",
            "Requirement already satisfied: requests<3,>=2.27 in /usr/local/lib/python3.11/dist-packages (from streamlit) (2.32.3)\n",
            "Requirement already satisfied: rich<14,>=10.14.0 in /usr/local/lib/python3.11/dist-packages (from streamlit) (13.9.4)\n",
            "Requirement already satisfied: tenacity<10,>=8.1.0 in /usr/local/lib/python3.11/dist-packages (from streamlit) (9.0.0)\n",
            "Requirement already satisfied: toml<2,>=0.10.1 in /usr/local/lib/python3.11/dist-packages (from streamlit) (0.10.2)\n",
            "Requirement already satisfied: typing-extensions<5,>=4.4.0 in /usr/local/lib/python3.11/dist-packages (from streamlit) (4.12.2)\n",
            "Requirement already satisfied: watchdog<7,>=2.1.5 in /usr/local/lib/python3.11/dist-packages (from streamlit) (6.0.0)\n",
            "Requirement already satisfied: gitpython!=3.1.19,<4,>=3.0.7 in /usr/local/lib/python3.11/dist-packages (from streamlit) (3.1.44)\n",
            "Requirement already satisfied: pydeck<1,>=0.8.0b4 in /usr/local/lib/python3.11/dist-packages (from streamlit) (0.9.1)\n",
            "Requirement already satisfied: tornado<7,>=6.0.3 in /usr/local/lib/python3.11/dist-packages (from streamlit) (6.4.2)\n",
            "Requirement already satisfied: jinja2 in /usr/local/lib/python3.11/dist-packages (from altair<6,>=4.0->streamlit) (3.1.5)\n",
            "Requirement already satisfied: jsonschema>=3.0 in /usr/local/lib/python3.11/dist-packages (from altair<6,>=4.0->streamlit) (4.23.0)\n",
            "Requirement already satisfied: narwhals>=1.14.2 in /usr/local/lib/python3.11/dist-packages (from altair<6,>=4.0->streamlit) (1.27.1)\n",
            "Requirement already satisfied: gitdb<5,>=4.0.1 in /usr/local/lib/python3.11/dist-packages (from gitpython!=3.1.19,<4,>=3.0.7->streamlit) (4.0.12)\n",
            "Requirement already satisfied: python-dateutil>=2.8.2 in /usr/local/lib/python3.11/dist-packages (from pandas<3,>=1.4.0->streamlit) (2.8.2)\n",
            "Requirement already satisfied: pytz>=2020.1 in /usr/local/lib/python3.11/dist-packages (from pandas<3,>=1.4.0->streamlit) (2025.1)\n",
            "Requirement already satisfied: tzdata>=2022.7 in /usr/local/lib/python3.11/dist-packages (from pandas<3,>=1.4.0->streamlit) (2025.1)\n",
            "Requirement already satisfied: charset-normalizer<4,>=2 in /usr/local/lib/python3.11/dist-packages (from requests<3,>=2.27->streamlit) (3.4.1)\n",
            "Requirement already satisfied: idna<4,>=2.5 in /usr/local/lib/python3.11/dist-packages (from requests<3,>=2.27->streamlit) (3.10)\n",
            "Requirement already satisfied: urllib3<3,>=1.21.1 in /usr/local/lib/python3.11/dist-packages (from requests<3,>=2.27->streamlit) (2.3.0)\n",
            "Requirement already satisfied: certifi>=2017.4.17 in /usr/local/lib/python3.11/dist-packages (from requests<3,>=2.27->streamlit) (2025.1.31)\n",
            "Requirement already satisfied: markdown-it-py>=2.2.0 in /usr/local/lib/python3.11/dist-packages (from rich<14,>=10.14.0->streamlit) (3.0.0)\n",
            "Requirement already satisfied: pygments<3.0.0,>=2.13.0 in /usr/local/lib/python3.11/dist-packages (from rich<14,>=10.14.0->streamlit) (2.18.0)\n",
            "Requirement already satisfied: smmap<6,>=3.0.1 in /usr/local/lib/python3.11/dist-packages (from gitdb<5,>=4.0.1->gitpython!=3.1.19,<4,>=3.0.7->streamlit) (5.0.2)\n",
            "Requirement already satisfied: MarkupSafe>=2.0 in /usr/local/lib/python3.11/dist-packages (from jinja2->altair<6,>=4.0->streamlit) (3.0.2)\n",
            "Requirement already satisfied: attrs>=22.2.0 in /usr/local/lib/python3.11/dist-packages (from jsonschema>=3.0->altair<6,>=4.0->streamlit) (25.1.0)\n",
            "Requirement already satisfied: jsonschema-specifications>=2023.03.6 in /usr/local/lib/python3.11/dist-packages (from jsonschema>=3.0->altair<6,>=4.0->streamlit) (2024.10.1)\n",
            "Requirement already satisfied: referencing>=0.28.4 in /usr/local/lib/python3.11/dist-packages (from jsonschema>=3.0->altair<6,>=4.0->streamlit) (0.36.2)\n",
            "Requirement already satisfied: rpds-py>=0.7.1 in /usr/local/lib/python3.11/dist-packages (from jsonschema>=3.0->altair<6,>=4.0->streamlit) (0.22.3)\n",
            "Requirement already satisfied: mdurl~=0.1 in /usr/local/lib/python3.11/dist-packages (from markdown-it-py>=2.2.0->rich<14,>=10.14.0->streamlit) (0.1.2)\n",
            "Requirement already satisfied: six>=1.5 in /usr/local/lib/python3.11/dist-packages (from python-dateutil>=2.8.2->pandas<3,>=1.4.0->streamlit) (1.17.0)\n"
          ]
        }
      ]
    },
    {
      "cell_type": "markdown",
      "source": [
        "Import Libraries"
      ],
      "metadata": {
        "id": "4xGif5xXBosM"
      }
    },
    {
      "cell_type": "code",
      "execution_count": 26,
      "metadata": {
        "id": "nuPdn0wP-n0s"
      },
      "outputs": [],
      "source": [
        "import pandas as pd\n",
        "import numpy as np\n",
        "from sklearn.compose import ColumnTransformer\n",
        "from sklearn.preprocessing import StandardScaler, OneHotEncoder\n",
        "from sklearn.model_selection import train_test_split, GridSearchCV\n",
        "from sklearn.pipeline import Pipeline\n",
        "from sklearn.metrics import mean_squared_error, r2_score\n",
        "from sklearn.linear_model import LinearRegression\n",
        "from sklearn.neighbors import KNeighborsRegressor\n",
        "from sklearn.tree import DecisionTreeRegressor\n",
        "from sklearn.ensemble import RandomForestRegressor\n",
        "from xgboost import XGBRegressor\n",
        "import joblib\n",
        "import shap\n",
        "import matplotlib.pyplot as plt"
      ]
    },
    {
      "cell_type": "markdown",
      "source": [
        "Load & Preprocess Data"
      ],
      "metadata": {
        "id": "orNvTMNkB9Ej"
      }
    },
    {
      "cell_type": "code",
      "source": [
        "# Load dataset\n",
        "df = pd.read_csv('sleep_deprivation_dataset_detailed (1).csv')\n",
        "df = df.drop('Participant_ID', axis=1)\n",
        "\n",
        "# Define target and features\n",
        "target = 'Stroop_Task_Reaction_Time'\n",
        "y = df[target]\n",
        "X = df.drop([target, 'N_Back_Accuracy', 'Emotion_Regulation_Score', 'PVT_Reaction_Time'], axis=1)\n",
        "\n",
        "# Verify columns\n",
        "print(\"Columns used for modeling:\\n\", X.columns.tolist())"
      ],
      "metadata": {
        "colab": {
          "base_uri": "https://localhost:8080/"
        },
        "id": "Lto10mNRAuE2",
        "outputId": "578bf946-6897-4424-d6f6-bb0584d6fe52"
      },
      "execution_count": 27,
      "outputs": [
        {
          "output_type": "stream",
          "name": "stdout",
          "text": [
            "Columns used for modeling:\n",
            " ['Sleep_Hours', 'Sleep_Quality_Score', 'Daytime_Sleepiness', 'Age', 'Gender', 'BMI', 'Caffeine_Intake', 'Physical_Activity_Level', 'Stress_Level']\n"
          ]
        }
      ]
    },
    {
      "cell_type": "markdown",
      "source": [
        "Preprocessing Pipeline"
      ],
      "metadata": {
        "id": "R_2co0F-B_ni"
      }
    },
    {
      "cell_type": "code",
      "source": [
        "numerical_features = ['Sleep_Hours', 'Sleep_Quality_Score', 'Daytime_Sleepiness',\n",
        "                     'Age', 'BMI', 'Caffeine_Intake', 'Physical_Activity_Level', 'Stress_Level']\n",
        "categorical_features = ['Gender']\n",
        "\n",
        "preprocessor = ColumnTransformer(\n",
        "    transformers=[\n",
        "        ('num', StandardScaler(), numerical_features),\n",
        "        ('cat', OneHotEncoder(), categorical_features)\n",
        "    ])"
      ],
      "metadata": {
        "id": "PM-7yZGABHm1"
      },
      "execution_count": 28,
      "outputs": []
    },
    {
      "cell_type": "markdown",
      "source": [
        "Train-Test Split"
      ],
      "metadata": {
        "id": "3HI1euphCB_i"
      }
    },
    {
      "cell_type": "code",
      "source": [
        "X_train, X_test, y_train, y_test = train_test_split(\n",
        "    X, y,\n",
        "    test_size=0.2,\n",
        "    random_state=42\n",
        ")\n",
        "print(f\"Training Data: {X_train.shape}, Test Data: {X_test.shape}\")"
      ],
      "metadata": {
        "colab": {
          "base_uri": "https://localhost:8080/"
        },
        "id": "r2EWynQpBJl_",
        "outputId": "786ab303-89e4-4754-ff81-383ac0ed7ae3"
      },
      "execution_count": 29,
      "outputs": [
        {
          "output_type": "stream",
          "name": "stdout",
          "text": [
            "Training Data: (48, 9), Test Data: (12, 9)\n"
          ]
        }
      ]
    },
    {
      "cell_type": "markdown",
      "source": [
        "Define Models & Hyperparameters"
      ],
      "metadata": {
        "id": "jNyvDu_TCEd3"
      }
    },
    {
      "cell_type": "code",
      "source": [
        "models = {\n",
        "    'Linear Regression': (LinearRegression(), {}),\n",
        "    'KNN': (KNeighborsRegressor(), {'model__n_neighbors': [3, 5, 7]}),\n",
        "    'Decision Tree': (DecisionTreeRegressor(), {'model__max_depth': [3, 5, None]}),\n",
        "    'Random Forest': (RandomForestRegressor(), {'model__n_estimators': [100, 200], 'model__max_depth': [5, 10]}),\n",
        "    'XGBoost': (XGBRegressor(), {'model__n_estimators': [100, 200], 'model__max_depth': [3, 5], 'model__learning_rate': [0.01, 0.1]})\n",
        "}"
      ],
      "metadata": {
        "id": "BUu2jSkVBNlJ"
      },
      "execution_count": 30,
      "outputs": []
    },
    {
      "cell_type": "markdown",
      "source": [
        "Train & Compare Models"
      ],
      "metadata": {
        "id": "P_xVxzSpCKJW"
      }
    },
    {
      "cell_type": "code",
      "source": [
        "results = {}\n",
        "\n",
        "for name, (model, params) in models.items():\n",
        "    # Create pipeline\n",
        "    pipeline = Pipeline(steps=[\n",
        "        ('preprocessor', preprocessor),\n",
        "        ('model', model)\n",
        "    ])\n",
        "\n",
        "    # Hyperparameter tuning\n",
        "    grid = GridSearchCV(\n",
        "        pipeline,\n",
        "        params,\n",
        "        cv=5,\n",
        "        scoring='neg_root_mean_squared_error'\n",
        "    )\n",
        "    grid.fit(X_train, y_train)\n",
        "\n",
        "    # Evaluate\n",
        "    best_model = grid.best_estimator_\n",
        "    y_pred = best_model.predict(X_test)\n",
        "    rmse = mean_squared_error(y_test, y_pred)\n",
        "    r2 = r2_score(y_test, y_pred)\n",
        "\n",
        "    # Save results\n",
        "    results[name] = {\n",
        "        'RMSE': rmse,\n",
        "        'R²': r2,\n",
        "        'Best Params': grid.best_params_\n",
        "    }\n",
        "\n",
        "# Display results\n",
        "results_df = pd.DataFrame(results).T\n",
        "print(results_df[['RMSE', 'R²']])"
      ],
      "metadata": {
        "colab": {
          "base_uri": "https://localhost:8080/"
        },
        "id": "hgTzX2P8BRGA",
        "outputId": "e4bb7923-9b4f-4a3a-d9ad-9b5c2262d9f5"
      },
      "execution_count": 32,
      "outputs": [
        {
          "output_type": "stream",
          "name": "stdout",
          "text": [
            "                       RMSE        R²\n",
            "Linear Regression  1.026994 -0.459962\n",
            "KNN                1.260131 -0.791387\n",
            "Decision Tree       1.02264 -0.453772\n",
            "Random Forest      0.938969 -0.334827\n",
            "XGBoost            0.983477 -0.398099\n"
          ]
        }
      ]
    },
    {
      "cell_type": "markdown",
      "source": [
        "Save Best Model (XGBoost)"
      ],
      "metadata": {
        "id": "Ypm4nO4zCQF9"
      }
    },
    {
      "cell_type": "code",
      "source": [
        "# Cell 8: Save Best Model (XGBoost)\n",
        "# Extract best XGBoost parameters\n",
        "best_params = results['XGBoost']['Best Params']\n",
        "best_params = {key.replace('model__', ''): value for key, value in best_params.items()}  # Fix parameter names\n",
        "\n",
        "# Create final pipeline\n",
        "final_pipeline = Pipeline(steps=[\n",
        "    ('preprocessor', preprocessor),\n",
        "    ('model', XGBRegressor(**best_params))\n",
        "])\n",
        "final_pipeline.fit(X_train, y_train)\n",
        "\n",
        "# Save for deployment\n",
        "joblib.dump(final_pipeline, 'best_model.pkl')\n",
        "print(\"Model saved as best_model.pkl!\")"
      ],
      "metadata": {
        "colab": {
          "base_uri": "https://localhost:8080/"
        },
        "id": "tLUvR9DxCSqW",
        "outputId": "afd0b6a8-39c6-411b-d23b-b9ede7d20fca"
      },
      "execution_count": 35,
      "outputs": [
        {
          "output_type": "stream",
          "name": "stdout",
          "text": [
            "Model saved as best_model.pkl!\n"
          ]
        }
      ]
    },
    {
      "cell_type": "markdown",
      "source": [
        "SHAP Analysis"
      ],
      "metadata": {
        "id": "SB2e-iI6CXFW"
      }
    },
    {
      "cell_type": "code",
      "source": [
        "# Preprocess test data\n",
        "X_test_preprocessed = preprocessor.transform(X_test)\n",
        "\n",
        "# Explain model\n",
        "explainer = shap.Explainer(final_pipeline.named_steps['model'])\n",
        "shap_values = explainer(X_test_preprocessed)\n",
        "\n",
        "# Save plots\n",
        "plt.figure(figsize=(10, 6))\n",
        "shap.plots.beeswarm(shap_values, show=False)\n",
        "plt.savefig('shap_beeswarm.png', bbox_inches='tight')\n",
        "plt.close()\n",
        "print(\"SHAP plot saved as shap_beeswarm.png!\")"
      ],
      "metadata": {
        "colab": {
          "base_uri": "https://localhost:8080/"
        },
        "id": "A-QmbnKSCVyb",
        "outputId": "bbc85b54-b9c6-4b10-bc05-daaa18b6dc1b"
      },
      "execution_count": 34,
      "outputs": [
        {
          "output_type": "stream",
          "name": "stdout",
          "text": [
            "SHAP plot saved as shap_beeswarm.png!\n"
          ]
        }
      ]
    },
    {
      "cell_type": "markdown",
      "source": [],
      "metadata": {
        "id": "RyCKq6TpSS9I"
      }
    }
  ]
}